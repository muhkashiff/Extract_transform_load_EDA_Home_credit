{
 "cells": [
  {
   "cell_type": "code",
   "execution_count": null,
   "metadata": {},
   "outputs": [],
   "source": [
    "# Loop through each categorical column\n",
    "for column in categorical_and_id.columns:\n",
    "    # Skip SK_ID_CURR\n",
    "    if column == 'SK_ID_CURR':\n",
    "        continue\n",
    "    \n",
    "    # Create a count plot for the current categorical column\n",
    "    plt.figure(figsize=(10, 6))\n",
    "    sns.countplot(x=column, data=categorical_and_id)\n",
    "    plt.title(f'Distribution of {column}')\n",
    "    plt.xticks(rotation=90)\n",
    "    plt.show()"
   ]
  }
 ],
 "metadata": {
  "language_info": {
   "name": "python"
  }
 },
 "nbformat": 4,
 "nbformat_minor": 2
}
